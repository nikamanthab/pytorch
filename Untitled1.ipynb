{
 "cells": [
  {
   "cell_type": "code",
   "execution_count": 5,
   "metadata": {},
   "outputs": [
    {
     "ename": "SyntaxError",
     "evalue": "invalid syntax (term.py, line 167)",
     "output_type": "error",
     "traceback": [
      "Traceback \u001b[0;36m(most recent call last)\u001b[0m:\n",
      "  File \u001b[1;32m\"/home/nikamanth/anaconda3/envs/deep/lib/python3.7/site-packages/IPython/core/interactiveshell.py\"\u001b[0m, line \u001b[1;32m3326\u001b[0m, in \u001b[1;35mrun_code\u001b[0m\n    exec(code_obj, self.user_global_ns, self.user_ns)\n",
      "  File \u001b[1;32m\"<ipython-input-5-308ef5371a41>\"\u001b[0m, line \u001b[1;32m1\u001b[0m, in \u001b[1;35m<module>\u001b[0m\n    from pwn import *\n",
      "  File \u001b[1;32m\"/home/nikamanth/anaconda3/envs/deep/lib/python3.7/site-packages/pwn/__init__.py\"\u001b[0m, line \u001b[1;32m4\u001b[0m, in \u001b[1;35m<module>\u001b[0m\n    from pwn.toplevel import *\n",
      "  File \u001b[1;32m\"/home/nikamanth/anaconda3/envs/deep/lib/python3.7/site-packages/pwn/toplevel.py\"\u001b[0m, line \u001b[1;32m20\u001b[0m, in \u001b[1;35m<module>\u001b[0m\n    import pwnlib\n",
      "  File \u001b[1;32m\"/home/nikamanth/anaconda3/envs/deep/lib/python3.7/site-packages/pwnlib/__init__.py\"\u001b[0m, line \u001b[1;32m43\u001b[0m, in \u001b[1;35m<module>\u001b[0m\n    importlib.import_module('.%s' % module, 'pwnlib')\n",
      "  File \u001b[1;32m\"/home/nikamanth/anaconda3/envs/deep/lib/python3.7/importlib/__init__.py\"\u001b[0m, line \u001b[1;32m127\u001b[0m, in \u001b[1;35mimport_module\u001b[0m\n    return _bootstrap._gcd_import(name[level:], package, level)\n",
      "  File \u001b[1;32m\"/home/nikamanth/anaconda3/envs/deep/lib/python3.7/site-packages/pwnlib/args.py\"\u001b[0m, line \u001b[1;32m61\u001b[0m, in \u001b[1;35m<module>\u001b[0m\n    from pwnlib import term\n",
      "  File \u001b[1;32m\"/home/nikamanth/anaconda3/envs/deep/lib/python3.7/site-packages/pwnlib/term/__init__.py\"\u001b[0m, line \u001b[1;32m5\u001b[0m, in \u001b[1;35m<module>\u001b[0m\n    from pwnlib.term import completer\n",
      "  File \u001b[1;32m\"/home/nikamanth/anaconda3/envs/deep/lib/python3.7/site-packages/pwnlib/term/completer.py\"\u001b[0m, line \u001b[1;32m6\u001b[0m, in \u001b[1;35m<module>\u001b[0m\n    from pwnlib.term import readline\n",
      "\u001b[0;36m  File \u001b[0;32m\"/home/nikamanth/anaconda3/envs/deep/lib/python3.7/site-packages/pwnlib/term/readline.py\"\u001b[0;36m, line \u001b[0;32m7\u001b[0;36m, in \u001b[0;35m<module>\u001b[0;36m\u001b[0m\n\u001b[0;31m    from pwnlib.term import term\u001b[0m\n",
      "\u001b[0;36m  File \u001b[0;32m\"/home/nikamanth/anaconda3/envs/deep/lib/python3.7/site-packages/pwnlib/term/term.py\"\u001b[0;36m, line \u001b[0;32m167\u001b[0m\n\u001b[0;31m    def goto((r, c)):\u001b[0m\n\u001b[0m             ^\u001b[0m\n\u001b[0;31mSyntaxError\u001b[0m\u001b[0;31m:\u001b[0m invalid syntax\n"
     ]
    }
   ],
   "source": []
  },
  {
   "cell_type": "code",
   "execution_count": null,
   "metadata": {},
   "outputs": [],
   "source": []
  }
 ],
 "metadata": {
  "kernelspec": {
   "display_name": "Python 3",
   "language": "python",
   "name": "python3"
  },
  "language_info": {
   "codemirror_mode": {
    "name": "ipython",
    "version": 3
   },
   "file_extension": ".py",
   "mimetype": "text/x-python",
   "name": "python",
   "nbconvert_exporter": "python",
   "pygments_lexer": "ipython3",
   "version": "3.7.4"
  }
 },
 "nbformat": 4,
 "nbformat_minor": 2
}
