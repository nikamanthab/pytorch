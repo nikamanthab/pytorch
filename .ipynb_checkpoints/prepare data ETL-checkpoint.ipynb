{
 "cells": [
  {
   "cell_type": "code",
   "execution_count": 2,
   "metadata": {},
   "outputs": [],
   "source": [
    "import torch\n",
    "import torchvision\n",
    "import torchvision.transforms as transforms"
   ]
  },
  {
   "cell_type": "code",
   "execution_count": 3,
   "metadata": {},
   "outputs": [],
   "source": [
    "import numpy as np\n",
    "import matplotlib.pyplot as plt\n",
    "torch.set_printoptions(linewidth=120)"
   ]
  },
  {
   "cell_type": "code",
   "execution_count": 4,
   "metadata": {},
   "outputs": [],
   "source": [
    "train_set = torchvision.datasets.FashionMNIST(\n",
    "    root = './data/FashionMNIST',\n",
    "    train = True,\n",
    "    download = True,\n",
    "    transform = transforms.Compose([\n",
    "        transforms.ToTensor()\n",
    "    ])\n",
    ")"
   ]
  },
  {
   "cell_type": "code",
   "execution_count": 5,
   "metadata": {},
   "outputs": [
    {
     "data": {
      "text/plain": [
       "Dataset FashionMNIST\n",
       "    Number of datapoints: 60000\n",
       "    Root location: ./data/FashionMNIST\n",
       "    Split: Train\n",
       "    StandardTransform\n",
       "Transform: Compose(\n",
       "               ToTensor()\n",
       "           )"
      ]
     },
     "execution_count": 5,
     "metadata": {},
     "output_type": "execute_result"
    }
   ],
   "source": [
    "train_set"
   ]
  },
  {
   "cell_type": "code",
   "execution_count": 6,
   "metadata": {},
   "outputs": [],
   "source": [
    "train_loader = torch.utils.data.DataLoader(\n",
    "    train_set,batch_size=50)"
   ]
  },
  {
   "cell_type": "code",
   "execution_count": 7,
   "metadata": {},
   "outputs": [
    {
     "data": {
      "text/plain": [
       "<torch.utils.data.dataloader.DataLoader at 0x7fba8c928ad0>"
      ]
     },
     "execution_count": 7,
     "metadata": {},
     "output_type": "execute_result"
    }
   ],
   "source": [
    "train_loader"
   ]
  },
  {
   "cell_type": "code",
   "execution_count": 8,
   "metadata": {},
   "outputs": [
    {
     "data": {
      "text/plain": [
       "60000"
      ]
     },
     "execution_count": 8,
     "metadata": {},
     "output_type": "execute_result"
    }
   ],
   "source": [
    "len(train_set)"
   ]
  },
  {
   "cell_type": "code",
   "execution_count": 9,
   "metadata": {},
   "outputs": [
    {
     "data": {
      "text/plain": [
       "1200"
      ]
     },
     "execution_count": 9,
     "metadata": {},
     "output_type": "execute_result"
    }
   ],
   "source": [
    "len(train_loader)"
   ]
  },
  {
   "cell_type": "code",
   "execution_count": 10,
   "metadata": {},
   "outputs": [
    {
     "name": "stderr",
     "output_type": "stream",
     "text": [
      "/home/nikamanth/anaconda3/envs/deep/lib/python3.7/site-packages/torchvision/datasets/mnist.py:43: UserWarning: train_labels has been renamed targets\n",
      "  warnings.warn(\"train_labels has been renamed targets\")\n"
     ]
    },
    {
     "data": {
      "text/plain": [
       "tensor([9, 0, 0,  ..., 3, 0, 5])"
      ]
     },
     "execution_count": 10,
     "metadata": {},
     "output_type": "execute_result"
    }
   ],
   "source": [
    "train_set.train_labels"
   ]
  },
  {
   "cell_type": "code",
   "execution_count": 11,
   "metadata": {},
   "outputs": [
    {
     "data": {
      "text/plain": [
       "tensor([6000, 6000, 6000, 6000, 6000, 6000, 6000, 6000, 6000, 6000])"
      ]
     },
     "execution_count": 11,
     "metadata": {},
     "output_type": "execute_result"
    }
   ],
   "source": [
    "train_set.train_labels.bincount()"
   ]
  },
  {
   "cell_type": "code",
   "execution_count": 12,
   "metadata": {},
   "outputs": [],
   "source": [
    "sample = next(iter(train_set))\n",
    "batch = next(iter(train_loader))"
   ]
  },
  {
   "cell_type": "code",
   "execution_count": 13,
   "metadata": {},
   "outputs": [
    {
     "data": {
      "text/plain": [
       "2"
      ]
     },
     "execution_count": 13,
     "metadata": {},
     "output_type": "execute_result"
    }
   ],
   "source": [
    "len(sample) # 2 columns image and the label"
   ]
  },
  {
   "cell_type": "code",
   "execution_count": 14,
   "metadata": {},
   "outputs": [
    {
     "data": {
      "text/plain": [
       "tuple"
      ]
     },
     "execution_count": 14,
     "metadata": {},
     "output_type": "execute_result"
    }
   ],
   "source": [
    "type(sample)"
   ]
  },
  {
   "cell_type": "code",
   "execution_count": 15,
   "metadata": {},
   "outputs": [],
   "source": [
    "image , label = sample\n",
    "images, labels = batch"
   ]
  },
  {
   "cell_type": "code",
   "execution_count": 16,
   "metadata": {},
   "outputs": [
    {
     "name": "stdout",
     "output_type": "stream",
     "text": [
      "torch.Size([1, 28, 28])\n"
     ]
    },
    {
     "data": {
      "text/plain": [
       "torch.Size([50, 1, 28, 28])"
      ]
     },
     "execution_count": 16,
     "metadata": {},
     "output_type": "execute_result"
    }
   ],
   "source": [
    "print(image.size())\n",
    "images.size()"
   ]
  },
  {
   "cell_type": "code",
   "execution_count": 17,
   "metadata": {},
   "outputs": [],
   "source": [
    "import cv2 as cv"
   ]
  },
  {
   "cell_type": "code",
   "execution_count": 18,
   "metadata": {},
   "outputs": [],
   "source": [
    "img = image[0].numpy()"
   ]
  },
  {
   "cell_type": "code",
   "execution_count": 19,
   "metadata": {},
   "outputs": [
    {
     "data": {
      "text/plain": [
       "<matplotlib.image.AxesImage at 0x7fba789e4510>"
      ]
     },
     "execution_count": 19,
     "metadata": {},
     "output_type": "execute_result"
    },
    {
     "data": {
      "image/png": "[encoded data removed]",
      "text/plain": [
       "<Figure size 432x288 with 1 Axes>"
      ]
     },
     "metadata": {
      "needs_background": "light"
     },
     "output_type": "display_data"
    }
   ],
   "source": [
    "# # img = cv.imread(image[0])\n",
    "# cv.imshow('image',img)\n",
    "# cv.waitKey(-1)\n",
    "plt.imshow(image[0],cmap='gray')"
   ]
  },
  {
   "cell_type": "code",
   "execution_count": 20,
   "metadata": {},
   "outputs": [
    {
     "data": {
      "text/plain": [
       "9"
      ]
     },
     "execution_count": 20,
     "metadata": {},
     "output_type": "execute_result"
    }
   ],
   "source": [
    "label"
   ]
  },
  {
   "cell_type": "code",
   "execution_count": 21,
   "metadata": {},
   "outputs": [],
   "source": [
    "grid = torchvision.utils.make_grid(images, nrow=10)"
   ]
  },
  {
   "cell_type": "code",
   "execution_count": 22,
   "metadata": {},
   "outputs": [
    {
     "name": "stdout",
     "output_type": "stream",
     "text": [
      "tensor([9, 0, 0, 3, 0, 2, 7, 2, 5, 5, 0, 9, 5, 5, 7, 9, 1, 0, 6, 4, 3, 1, 4, 8, 4, 3, 0, 2, 4, 4, 5, 3, 6, 6, 0, 8, 5,\n",
      "        2, 1, 6, 6, 7, 9, 5, 9, 2, 7, 3, 0, 3])\n"
     ]
    },
    {
     "data": {
      "image/png": "[encoded data removed]",
      "text/plain": [
       "<Figure size 1080x1080 with 1 Axes>"
      ]
     },
     "metadata": {
      "needs_background": "light"
     },
     "output_type": "display_data"
    }
   ],
   "source": [
    "plt.figure(figsize=(15,15))\n",
    "plt.imshow(np.transpose(grid,(1,2,0)))\n",
    "print(labels)"
   ]
  },
  {
   "cell_type": "code",
   "execution_count": 23,
   "metadata": {},
   "outputs": [],
   "source": [
    "import torch.nn as nn\n",
    "import torch.nn.functional as F\n",
    "import torch.optim as optim"
   ]
  },
  {
   "cell_type": "code",
   "execution_count": 24,
   "metadata": {},
   "outputs": [],
   "source": [
    "# Network Architecture\n",
    "class Network(nn.Module):\n",
    "    def __init__(self):\n",
    "        super(Network,self).__init__()\n",
    "        self.conv1 = nn.Conv2d(in_channels=1,out_channels=6,kernel_size=5)\n",
    "        self.conv2 = nn.Conv2d(in_channels=6,out_channels=12,kernel_size=5)\n",
    "        \n",
    "        self.fc1 = nn.Linear(in_features=12*4*4,out_features=120)\n",
    "        self.fc2 = nn.Linear(in_features=120,out_features=60)\n",
    "        self.out = nn.Linear(in_features=60,out_features=10)\n",
    "    \n",
    "    def forward(self,t):\n",
    "        #forward pass\n",
    "        \n",
    "        t = self.conv1(t)\n",
    "        t = F.relu(t)\n",
    "        t = F.max_pool2d(t,kernel_size=2, stride = 2)\n",
    "        \n",
    "        t = self.conv2(t)\n",
    "        t = F.relu(t)\n",
    "        t = F.max_pool2d(t,kernel_size=2, stride = 2)\n",
    "        \n",
    "        t = t.reshape(-1,12*4*4)\n",
    "        t = self.fc1(t)\n",
    "        t = F.relu(t)\n",
    "        \n",
    "        t = self.fc2(t)\n",
    "        t = F.relu(t)\n",
    "        \n",
    "        t = self.out(t)\n",
    "        t = F.softmax(t, dim=1)\n",
    "        \n",
    "        return t"
   ]
  },
  {
   "cell_type": "code",
   "execution_count": 25,
   "metadata": {},
   "outputs": [],
   "source": [
    "n = Network()"
   ]
  },
  {
   "cell_type": "code",
   "execution_count": 26,
   "metadata": {},
   "outputs": [
    {
     "data": {
      "text/plain": [
       "Network(\n",
       "  (conv1): Conv2d(1, 6, kernel_size=(5, 5), stride=(1, 1))\n",
       "  (conv2): Conv2d(6, 12, kernel_size=(5, 5), stride=(1, 1))\n",
       "  (fc1): Linear(in_features=192, out_features=120, bias=True)\n",
       "  (fc2): Linear(in_features=120, out_features=60, bias=True)\n",
       "  (out): Linear(in_features=60, out_features=10, bias=True)\n",
       ")"
      ]
     },
     "execution_count": 26,
     "metadata": {},
     "output_type": "execute_result"
    }
   ],
   "source": [
    "n"
   ]
  },
  {
   "cell_type": "code",
   "execution_count": 27,
   "metadata": {},
   "outputs": [
    {
     "data": {
      "text/plain": [
       "Parameter containing:\n",
       "tensor([[[[ 0.0399, -0.0705, -0.0221, -0.0419,  0.0311],\n",
       "          [ 0.0340, -0.0935,  0.1766,  0.0946,  0.1879],\n",
       "          [-0.0444, -0.1559, -0.1338, -0.1892,  0.1789],\n",
       "          [ 0.1998,  0.0888,  0.0661, -0.1790,  0.1231],\n",
       "          [-0.1618, -0.0543,  0.0204, -0.1607, -0.1112]]],\n",
       "\n",
       "\n",
       "        [[[ 0.0952,  0.0106, -0.0896,  0.0689, -0.0048],\n",
       "          [ 0.1361, -0.0876,  0.0985, -0.0939,  0.0935],\n",
       "          [ 0.0054, -0.0818,  0.1554,  0.0520,  0.0039],\n",
       "          [ 0.1218,  0.0866,  0.0730, -0.0176, -0.0398],\n",
       "          [ 0.0298,  0.0203,  0.1210,  0.0506, -0.0549]]],\n",
       "\n",
       "\n",
       "        [[[-0.1460, -0.0280,  0.0968, -0.0547, -0.0501],\n",
       "          [ 0.0796,  0.0948, -0.0457, -0.1253, -0.0849],\n",
       "          [ 0.1708, -0.1214,  0.1194,  0.1518, -0.0726],\n",
       "          [-0.0256, -0.0532, -0.1064,  0.0421,  0.0583],\n",
       "          [-0.1316,  0.0303, -0.1762, -0.1366,  0.0244]]],\n",
       "\n",
       "\n",
       "        [[[-0.1520, -0.0510,  0.0226, -0.1178,  0.0480],\n",
       "          [-0.1685,  0.1345, -0.1252, -0.1302, -0.1553],\n",
       "          [ 0.1904,  0.0695, -0.0854, -0.1779,  0.0452],\n",
       "          [ 0.0207,  0.0175, -0.1497, -0.0649,  0.1859],\n",
       "          [ 0.0143, -0.1930, -0.1986,  0.0505, -0.0195]]],\n",
       "\n",
       "\n",
       "        [[[-0.0382,  0.0491, -0.1889, -0.1276, -0.1624],\n",
       "          [ 0.1615, -0.0425, -0.0495, -0.0461, -0.1218],\n",
       "          [-0.1798,  0.1081,  0.0352, -0.0927,  0.0836],\n",
       "          [ 0.0695,  0.1993, -0.0667,  0.0658,  0.1720],\n",
       "          [-0.0483,  0.1371, -0.1022, -0.1464, -0.0356]]],\n",
       "\n",
       "\n",
       "        [[[-0.1799, -0.1949,  0.1620, -0.0614,  0.0164],\n",
       "          [ 0.1067, -0.0274, -0.1676,  0.0221,  0.0588],\n",
       "          [-0.0183, -0.0259,  0.0154,  0.0237, -0.0990],\n",
       "          [ 0.0260, -0.1938, -0.0593, -0.0441,  0.1809],\n",
       "          [ 0.0780,  0.0104, -0.0211,  0.1710, -0.0667]]]], requires_grad=True)"
      ]
     },
     "execution_count": 27,
     "metadata": {},
     "output_type": "execute_result"
    }
   ],
   "source": [
    "n.conv1.weight"
   ]
  },
  {
   "cell_type": "code",
   "execution_count": 28,
   "metadata": {},
   "outputs": [
    {
     "data": {
      "text/plain": [
       "Parameter containing:\n",
       "tensor([[[[-0.0530, -0.0013,  0.0397, -0.0738, -0.0498],\n",
       "          [-0.0455,  0.0635, -0.0384,  0.0593, -0.0027],\n",
       "          [ 0.0472,  0.0343,  0.0681,  0.0736,  0.0136],\n",
       "          [-0.0481, -0.0754,  0.0025, -0.0352,  0.0318],\n",
       "          [ 0.0484,  0.0132,  0.0099,  0.0486,  0.0119]],\n",
       "\n",
       "         [[-0.0635,  0.0025, -0.0224, -0.0195, -0.0176],\n",
       "          [-0.0620,  0.0486, -0.0176, -0.0634, -0.0788],\n",
       "          [-0.0729,  0.0157, -0.0689, -0.0054, -0.0794],\n",
       "          [-0.0132,  0.0163,  0.0489,  0.0273,  0.0636],\n",
       "          [-0.0241, -0.0474, -0.0372,  0.0599, -0.0246]],\n",
       "\n",
       "         [[-0.0581, -0.0696, -0.0493, -0.0335,  0.0056],\n",
       "          [ 0.0147,  0.0266, -0.0622,  0.0176,  0.0708],\n",
       "          [-0.0034, -0.0740, -0.0457, -0.0663,  0.0813],\n",
       "          [ 0.0456,  0.0646,  0.0038,  0.0618, -0.0613],\n",
       "          [ 0.0746, -0.0378, -0.0501, -0.0504,  0.0592]],\n",
       "\n",
       "         [[-0.0542, -0.0082, -0.0365, -0.0518, -0.0689],\n",
       "          [-0.0768,  0.0505,  0.0289,  0.0600, -0.0220],\n",
       "          [ 0.0310,  0.0674, -0.0529,  0.0430,  0.0774],\n",
       "          [-0.0609,  0.0201, -0.0444, -0.0756, -0.0440],\n",
       "          [-0.0381,  0.0060,  0.0503, -0.0163,  0.0603]],\n",
       "\n",
       "         [[ 0.0658, -0.0585,  0.0788, -0.0152, -0.0771],\n",
       "          [-0.0741,  0.0746, -0.0055,  0.0296,  0.0158],\n",
       "          [ 0.0020,  0.0777,  0.0026,  0.0615,  0.0590],\n",
       "          [-0.0514,  0.0668,  0.0046,  0.0270,  0.0654],\n",
       "          [ 0.0163,  0.0402, -0.0302,  0.0121, -0.0045]],\n",
       "\n",
       "         [[ 0.0626, -0.0720, -0.0782, -0.0074,  0.0565],\n",
       "          [ 0.0015,  0.0781, -0.0065, -0.0530, -0.0655],\n",
       "          [ 0.0553, -0.0211,  0.0089, -0.0702,  0.0074],\n",
       "          [-0.0514,  0.0364, -0.0272,  0.0784,  0.0326],\n",
       "          [ 0.0341, -0.0784,  0.0030, -0.0292, -0.0240]]],\n",
       "\n",
       "\n",
       "        [[[-0.0145, -0.0556, -0.0213, -0.0647, -0.0072],\n",
       "          [-0.0714,  0.0440,  0.0132,  0.0678,  0.0219],\n",
       "          [ 0.0457,  0.0787,  0.0808,  0.0727,  0.0632],\n",
       "          [ 0.0199,  0.0425,  0.0265, -0.0382, -0.0489],\n",
       "          [-0.0413,  0.0066, -0.0566, -0.0042, -0.0790]],\n",
       "\n",
       "         [[ 0.0004,  0.0222,  0.0199,  0.0113,  0.0541],\n",
       "          [-0.0106, -0.0018, -0.0794, -0.0337, -0.0247],\n",
       "          [ 0.0477, -0.0623, -0.0378, -0.0160,  0.0549],\n",
       "          [-0.0677, -0.0784,  0.0101,  0.0248,  0.0750],\n",
       "          [-0.0693, -0.0375,  0.0608,  0.0760,  0.0778]],\n",
       "\n",
       "         [[-0.0615, -0.0372,  0.0770,  0.0267, -0.0466],\n",
       "          [ 0.0744,  0.0257,  0.0218, -0.0240,  0.0139],\n",
       "          [-0.0500,  0.0520, -0.0568, -0.0803,  0.0724],\n",
       "          [ 0.0418, -0.0316, -0.0009,  0.0588, -0.0659],\n",
       "          [-0.0682,  0.0017,  0.0516,  0.0440, -0.0434]],\n",
       "\n",
       "         [[ 0.0549,  0.0653,  0.0724, -0.0090,  0.0411],\n",
       "          [ 0.0203,  0.0497, -0.0179, -0.0283,  0.0498],\n",
       "          [-0.0411, -0.0317,  0.0763,  0.0584,  0.0635],\n",
       "          [ 0.0179,  0.0278, -0.0123, -0.0396, -0.0621],\n",
       "          [ 0.0648,  0.0384, -0.0647, -0.0800,  0.0173]],\n",
       "\n",
       "         [[-0.0218, -0.0515,  0.0727, -0.0194,  0.0543],\n",
       "          [-0.0381, -0.0171,  0.0658,  0.0305, -0.0602],\n",
       "          [-0.0310,  0.0262,  0.0138,  0.0275, -0.0363],\n",
       "          [-0.0373, -0.0358,  0.0504, -0.0554,  0.0209],\n",
       "          [ 0.0157,  0.0082,  0.0496,  0.0356, -0.0012]],\n",
       "\n",
       "         [[-0.0064, -0.0275,  0.0197,  0.0265, -0.0653],\n",
       "          [ 0.0749, -0.0364,  0.0294, -0.0325, -0.0277],\n",
       "          [-0.0043, -0.0245,  0.0149, -0.0012,  0.0775],\n",
       "          [ 0.0181, -0.0093, -0.0045, -0.0158, -0.0331],\n",
       "          [-0.0592, -0.0350,  0.0260,  0.0311, -0.0006]]],\n",
       "\n",
       "\n",
       "        [[[ 0.0689, -0.0067,  0.0158,  0.0556, -0.0191],\n",
       "          [-0.0121, -0.0073,  0.0759,  0.0304, -0.0424],\n",
       "          [-0.0583, -0.0470, -0.0746,  0.0294,  0.0389],\n",
       "          [ 0.0605,  0.0084, -0.0663,  0.0779,  0.0353],\n",
       "          [ 0.0744, -0.0722, -0.0371,  0.0062, -0.0652]],\n",
       "\n",
       "         [[ 0.0272,  0.0129,  0.0459,  0.0378,  0.0481],\n",
       "          [-0.0733, -0.0323,  0.0414, -0.0578, -0.0306],\n",
       "          [-0.0032, -0.0279,  0.0307,  0.0037,  0.0107],\n",
       "          [-0.0364,  0.0399, -0.0690, -0.0354,  0.0190],\n",
       "          [ 0.0812,  0.0686, -0.0043,  0.0555,  0.0073]],\n",
       "\n",
       "         [[ 0.0168, -0.0369,  0.0019,  0.0320,  0.0677],\n",
       "          [-0.0666, -0.0782, -0.0476,  0.0780,  0.0254],\n",
       "          [ 0.0187, -0.0654,  0.0423, -0.0735, -0.0502],\n",
       "          [ 0.0605, -0.0732, -0.0389,  0.0810, -0.0034],\n",
       "          [ 0.0673,  0.0193,  0.0193, -0.0517,  0.0637]],\n",
       "\n",
       "         [[-0.0192, -0.0594, -0.0410, -0.0697,  0.0157],\n",
       "          [-0.0173, -0.0498, -0.0354,  0.0674, -0.0512],\n",
       "          [-0.0551,  0.0681,  0.0165, -0.0297,  0.0403],\n",
       "          [ 0.0460, -0.0574,  0.0589, -0.0790, -0.0377],\n",
       "          [ 0.0634, -0.0574, -0.0455,  0.0370,  0.0245]],\n",
       "\n",
       "         [[-0.0095,  0.0124, -0.0094,  0.0716, -0.0768],\n",
       "          [ 0.0364, -0.0517,  0.0757,  0.0149, -0.0441],\n",
       "          [ 0.0160,  0.0335, -0.0712, -0.0618,  0.0446],\n",
       "          [ 0.0661, -0.0126,  0.0428, -0.0506,  0.0455],\n",
       "          [ 0.0288, -0.0231, -0.0093,  0.0404, -0.0797]],\n",
       "\n",
       "         [[-0.0470, -0.0029,  0.0705, -0.0130,  0.0106],\n",
       "          [ 0.0728,  0.0782, -0.0553,  0.0389,  0.0575],\n",
       "          [-0.0095, -0.0478, -0.0409, -0.0074, -0.0662],\n",
       "          [-0.0088, -0.0012,  0.0131, -0.0219,  0.0306],\n",
       "          [-0.0510,  0.0182, -0.0307, -0.0046,  0.0471]]],\n",
       "\n",
       "\n",
       "        ...,\n",
       "\n",
       "\n",
       "        [[[ 0.0572, -0.0059,  0.0752,  0.0810,  0.0151],\n",
       "          [-0.0254,  0.0505,  0.0567, -0.0660,  0.0630],\n",
       "          [-0.0694, -0.0225, -0.0414,  0.0751, -0.0797],\n",
       "          [ 0.0260, -0.0815, -0.0352,  0.0715,  0.0339],\n",
       "          [ 0.0328, -0.0207, -0.0329,  0.0118,  0.0493]],\n",
       "\n",
       "         [[-0.0438,  0.0802, -0.0516,  0.0728, -0.0337],\n",
       "          [-0.0712,  0.0644, -0.0630, -0.0519,  0.0373],\n",
       "          [ 0.0691, -0.0121,  0.0162,  0.0157, -0.0136],\n",
       "          [-0.0255,  0.0491,  0.0187,  0.0254, -0.0078],\n",
       "          [ 0.0246, -0.0651,  0.0807, -0.0288, -0.0630]],\n",
       "\n",
       "         [[-0.0088,  0.0783,  0.0487,  0.0108,  0.0122],\n",
       "          [ 0.0744, -0.0457,  0.0625, -0.0705, -0.0563],\n",
       "          [-0.0574,  0.0212, -0.0243, -0.0241, -0.0465],\n",
       "          [-0.0743, -0.0167, -0.0694,  0.0424, -0.0815],\n",
       "          [ 0.0512, -0.0242, -0.0760, -0.0017, -0.0317]],\n",
       "\n",
       "         [[ 0.0164,  0.0364,  0.0442,  0.0394, -0.0252],\n",
       "          [ 0.0332,  0.0270, -0.0033, -0.0344, -0.0104],\n",
       "          [-0.0725, -0.0498, -0.0453, -0.0441, -0.0037],\n",
       "          [-0.0575,  0.0109,  0.0313,  0.0522,  0.0332],\n",
       "          [ 0.0087, -0.0073,  0.0723, -0.0126,  0.0441]],\n",
       "\n",
       "         [[ 0.0788, -0.0204, -0.0226,  0.0487, -0.0705],\n",
       "          [-0.0558, -0.0702,  0.0413,  0.0536,  0.0592],\n",
       "          [ 0.0351,  0.0134, -0.0807,  0.0635,  0.0500],\n",
       "          [ 0.0232,  0.0362, -0.0497, -0.0553,  0.0489],\n",
       "          [-0.0492, -0.0606,  0.0340,  0.0259, -0.0168]],\n",
       "\n",
       "         [[-0.0523, -0.0226, -0.0177,  0.0196,  0.0783],\n",
       "          [-0.0724,  0.0784,  0.0648,  0.0554, -0.0804],\n",
       "          [-0.0570, -0.0424,  0.0240, -0.0792,  0.0406],\n",
       "          [ 0.0237,  0.0334,  0.0791, -0.0735, -0.0563],\n",
       "          [ 0.0804,  0.0326, -0.0774, -0.0107, -0.0032]]],\n",
       "\n",
       "\n",
       "        [[[ 0.0410, -0.0110, -0.0145, -0.0751,  0.0150],\n",
       "          [ 0.0320,  0.0441, -0.0592, -0.0646, -0.0756],\n",
       "          [-0.0242, -0.0200,  0.0033, -0.0735, -0.0745],\n",
       "          [ 0.0552,  0.0282,  0.0607,  0.0640, -0.0616],\n",
       "          [ 0.0309, -0.0273,  0.0003, -0.0741,  0.0425]],\n",
       "\n",
       "         [[-0.0381, -0.0112,  0.0528,  0.0016, -0.0198],\n",
       "          [-0.0432, -0.0370, -0.0123, -0.0419, -0.0491],\n",
       "          [-0.0117,  0.0617, -0.0166, -0.0490,  0.0073],\n",
       "          [ 0.0263,  0.0401,  0.0189,  0.0270, -0.0261],\n",
       "          [-0.0195, -0.0112, -0.0276,  0.0364,  0.0642]],\n",
       "\n",
       "         [[-0.0713,  0.0774, -0.0263, -0.0559,  0.0326],\n",
       "          [-0.0471,  0.0755, -0.0450, -0.0256,  0.0098],\n",
       "          [ 0.0752, -0.0054, -0.0426,  0.0755,  0.0779],\n",
       "          [ 0.0485, -0.0431,  0.0470, -0.0593, -0.0792],\n",
       "          [ 0.0644, -0.0225, -0.0492, -0.0385, -0.0750]],\n",
       "\n",
       "         [[ 0.0625,  0.0267,  0.0543,  0.0329,  0.0528],\n",
       "          [ 0.0094,  0.0564, -0.0416, -0.0391, -0.0363],\n",
       "          [-0.0246, -0.0463, -0.0164, -0.0511,  0.0379],\n",
       "          [ 0.0141, -0.0468,  0.0092,  0.0539, -0.0426],\n",
       "          [-0.0461, -0.0272,  0.0667, -0.0541, -0.0113]],\n",
       "\n",
       "         [[ 0.0380, -0.0269, -0.0753,  0.0740, -0.0395],\n",
       "          [-0.0024, -0.0003, -0.0088, -0.0107,  0.0706],\n",
       "          [ 0.0038, -0.0166, -0.0721, -0.0119, -0.0738],\n",
       "          [ 0.0183, -0.0039,  0.0183, -0.0141, -0.0563],\n",
       "          [-0.0355,  0.0477, -0.0515,  0.0501, -0.0460]],\n",
       "\n",
       "         [[-0.0640, -0.0017, -0.0030,  0.0657, -0.0056],\n",
       "          [ 0.0508, -0.0044,  0.0732,  0.0632, -0.0522],\n",
       "          [ 0.0246,  0.0359,  0.0233,  0.0345, -0.0106],\n",
       "          [ 0.0264, -0.0521,  0.0497,  0.0772,  0.0281],\n",
       "          [-0.0800, -0.0748,  0.0692,  0.0751, -0.0299]]],\n",
       "\n",
       "\n",
       "        [[[ 0.0085,  0.0746, -0.0287,  0.0076,  0.0619],\n",
       "          [ 0.0162,  0.0657,  0.0584,  0.0323,  0.0007],\n",
       "          [ 0.0764, -0.0600, -0.0204, -0.0243,  0.0046],\n",
       "          [ 0.0240,  0.0351,  0.0350, -0.0596,  0.0543],\n",
       "          [-0.0481,  0.0724, -0.0570, -0.0113, -0.0107]],\n",
       "\n",
       "         [[ 0.0574,  0.0104,  0.0282,  0.0684, -0.0376],\n",
       "          [ 0.0348,  0.0735, -0.0067, -0.0079, -0.0562],\n",
       "          [ 0.0605,  0.0382, -0.0349,  0.0364, -0.0156],\n",
       "          [-0.0127,  0.0760, -0.0765, -0.0290,  0.0407],\n",
       "          [ 0.0053, -0.0225, -0.0675, -0.0589, -0.0128]],\n",
       "\n",
       "         [[-0.0581, -0.0176,  0.0275, -0.0765,  0.0714],\n",
       "          [ 0.0504,  0.0032, -0.0448,  0.0236,  0.0245],\n",
       "          [ 0.0795, -0.0534, -0.0188,  0.0620, -0.0064],\n",
       "          [ 0.0265, -0.0105,  0.0372, -0.0484, -0.0734],\n",
       "          [ 0.0696, -0.0154, -0.0176, -0.0105,  0.0584]],\n",
       "\n",
       "         [[-0.0698, -0.0247,  0.0112,  0.0495,  0.0554],\n",
       "          [ 0.0143,  0.0212,  0.0031,  0.0545,  0.0794],\n",
       "          [ 0.0252, -0.0697, -0.0364,  0.0694,  0.0035],\n",
       "          [ 0.0496, -0.0324, -0.0511, -0.0076,  0.0793],\n",
       "          [ 0.0572,  0.0529,  0.0229,  0.0684, -0.0507]],\n",
       "\n",
       "         [[-0.0816,  0.0434,  0.0518, -0.0478,  0.0419],\n",
       "          [ 0.0063,  0.0198,  0.0610, -0.0606,  0.0315],\n",
       "          [ 0.0492, -0.0101,  0.0494, -0.0490, -0.0577],\n",
       "          [ 0.0403,  0.0132, -0.0321,  0.0124, -0.0237],\n",
       "          [ 0.0332, -0.0069, -0.0457,  0.0355, -0.0741]],\n",
       "\n",
       "         [[-0.0306, -0.0392,  0.0771, -0.0347,  0.0080],\n",
       "          [-0.0057,  0.0816,  0.0672,  0.0234,  0.0349],\n",
       "          [-0.0696,  0.0654, -0.0056, -0.0272,  0.0502],\n",
       "          [-0.0029, -0.0533, -0.0561, -0.0550,  0.0704],\n",
       "          [ 0.0526, -0.0279, -0.0579, -0.0596, -0.0575]]]], requires_grad=True)"
      ]
     },
     "execution_count": 28,
     "metadata": {},
     "output_type": "execute_result"
    }
   ],
   "source": [
    "n.conv2.weight"
   ]
  },
  {
   "cell_type": "code",
   "execution_count": 29,
   "metadata": {},
   "outputs": [
    {
     "name": "stdout",
     "output_type": "stream",
     "text": [
      "conv1.weight \t\t torch.Size([6, 1, 5, 5])\n",
      "conv1.bias \t\t torch.Size([6])\n",
      "conv2.weight \t\t torch.Size([12, 6, 5, 5])\n",
      "conv2.bias \t\t torch.Size([12])\n",
      "fc1.weight \t\t torch.Size([120, 192])\n",
      "fc1.bias \t\t torch.Size([120])\n",
      "fc2.weight \t\t torch.Size([60, 120])\n",
      "fc2.bias \t\t torch.Size([60])\n",
      "out.weight \t\t torch.Size([10, 60])\n",
      "out.bias \t\t torch.Size([10])\n"
     ]
    }
   ],
   "source": [
    "for name, params in n.named_parameters():\n",
    "    print(name,\"\\t\\t\",params.shape)"
   ]
  },
  {
   "cell_type": "code",
   "execution_count": 30,
   "metadata": {},
   "outputs": [
    {
     "data": {
      "text/plain": [
       "<torch.autograd.grad_mode.set_grad_enabled at 0x7fba7846bd90>"
      ]
     },
     "execution_count": 30,
     "metadata": {},
     "output_type": "execute_result"
    }
   ],
   "source": [
    "torch.set_grad_enabled(True)"
   ]
  },
  {
   "cell_type": "code",
   "execution_count": 31,
   "metadata": {},
   "outputs": [],
   "source": [
    "network = Network()"
   ]
  },
  {
   "cell_type": "code",
   "execution_count": 32,
   "metadata": {},
   "outputs": [
    {
     "data": {
      "text/plain": [
       "Network(\n",
       "  (conv1): Conv2d(1, 6, kernel_size=(5, 5), stride=(1, 1))\n",
       "  (conv2): Conv2d(6, 12, kernel_size=(5, 5), stride=(1, 1))\n",
       "  (fc1): Linear(in_features=192, out_features=120, bias=True)\n",
       "  (fc2): Linear(in_features=120, out_features=60, bias=True)\n",
       "  (out): Linear(in_features=60, out_features=10, bias=True)\n",
       ")"
      ]
     },
     "execution_count": 32,
     "metadata": {},
     "output_type": "execute_result"
    }
   ],
   "source": [
    "network"
   ]
  },
  {
   "cell_type": "code",
   "execution_count": 33,
   "metadata": {},
   "outputs": [
    {
     "data": {
      "text/plain": [
       "torch.Size([1, 28, 28])"
      ]
     },
     "execution_count": 33,
     "metadata": {},
     "output_type": "execute_result"
    }
   ],
   "source": [
    "image.shape"
   ]
  },
  {
   "cell_type": "code",
   "execution_count": 34,
   "metadata": {},
   "outputs": [
    {
     "data": {
      "text/plain": [
       "torch.Size([1, 1, 28, 28])"
      ]
     },
     "execution_count": 34,
     "metadata": {},
     "output_type": "execute_result"
    }
   ],
   "source": [
    "im = image.unsqueeze(0)\n",
    "im.shape #batching"
   ]
  },
  {
   "cell_type": "code",
   "execution_count": 35,
   "metadata": {},
   "outputs": [],
   "source": [
    "pred = network(im)"
   ]
  },
  {
   "cell_type": "code",
   "execution_count": 36,
   "metadata": {},
   "outputs": [
    {
     "data": {
      "text/plain": [
       "tensor([[0.1063, 0.0987, 0.0944, 0.1026, 0.0939, 0.1105, 0.1033, 0.0942, 0.0897, 0.1064]], grad_fn=<SoftmaxBackward>)"
      ]
     },
     "execution_count": 36,
     "metadata": {},
     "output_type": "execute_result"
    }
   ],
   "source": [
    "pred"
   ]
  },
  {
   "cell_type": "code",
   "execution_count": 37,
   "metadata": {},
   "outputs": [
    {
     "data": {
      "text/plain": [
       "torch.Size([100, 1, 28, 28])"
      ]
     },
     "execution_count": 37,
     "metadata": {},
     "output_type": "execute_result"
    }
   ],
   "source": [
    "data_loader = torch.utils.data.DataLoader(train_set,batch_size=100)\n",
    "batch = next(iter(data_loader))\n",
    "images,labels = batch\n",
    "images.shape"
   ]
  },
  {
   "cell_type": "code",
   "execution_count": 38,
   "metadata": {},
   "outputs": [
    {
     "data": {
      "text/plain": [
       "torch.Size([100])"
      ]
     },
     "execution_count": 38,
     "metadata": {},
     "output_type": "execute_result"
    }
   ],
   "source": [
    "labels.shape"
   ]
  },
  {
   "cell_type": "code",
   "execution_count": 39,
   "metadata": {},
   "outputs": [
    {
     "name": "stdout",
     "output_type": "stream",
     "text": [
      "torch.Size([100, 10])\n",
      "loss: 2.301278591156006\n",
      "None\n"
     ]
    }
   ],
   "source": [
    "preds = network(images)\n",
    "print(preds.shape)\n",
    "loss = F.cross_entropy(preds,labels)\n",
    "print(\"loss:\",loss.item())\n",
    "print(network.conv1.weight.grad)"
   ]
  },
  {
   "cell_type": "code",
   "execution_count": 37,
   "metadata": {},
   "outputs": [],
   "source": [
    "loss.backward()"
   ]
  },
  {
   "cell_type": "code",
   "execution_count": 38,
   "metadata": {},
   "outputs": [
    {
     "name": "stdout",
     "output_type": "stream",
     "text": [
      "torch.Size([6, 1, 5, 5])\n"
     ]
    }
   ],
   "source": [
    "print(network.conv1.weight.grad.shape)"
   ]
  },
  {
   "cell_type": "code",
   "execution_count": 39,
   "metadata": {},
   "outputs": [],
   "source": [
    "optimizer = optim.Adam(network.parameters(), lr=0.01)"
   ]
  },
  {
   "cell_type": "code",
   "execution_count": 40,
   "metadata": {},
   "outputs": [
    {
     "data": {
      "text/plain": [
       "2.3038365840911865"
      ]
     },
     "execution_count": 40,
     "metadata": {},
     "output_type": "execute_result"
    }
   ],
   "source": [
    "loss.item()"
   ]
  },
  {
   "cell_type": "code",
   "execution_count": 41,
   "metadata": {},
   "outputs": [],
   "source": [
    "def get_num_correct(preds,labels):\n",
    "    return preds.argmax(dim=1).eq(labels).sum().item()"
   ]
  },
  {
   "cell_type": "code",
   "execution_count": 42,
   "metadata": {},
   "outputs": [
    {
     "data": {
      "text/plain": [
       "11"
      ]
     },
     "execution_count": 42,
     "metadata": {},
     "output_type": "execute_result"
    }
   ],
   "source": [
    "get_num_correct(preds,labels)"
   ]
  },
  {
   "cell_type": "code",
   "execution_count": 43,
   "metadata": {},
   "outputs": [],
   "source": [
    "optimizer.step()"
   ]
  },
  {
   "cell_type": "code",
   "execution_count": 40,
   "metadata": {},
   "outputs": [
    {
     "data": {
      "text/plain": [
       "tensor([9, 0, 0, 3, 0, 2, 7, 2, 5, 5, 0, 9, 5, 5, 7, 9, 1, 0, 6, 4, 3, 1, 4, 8, 4, 3, 0, 2, 4, 4, 5, 3, 6, 6, 0, 8, 5,\n",
       "        2, 1, 6, 6, 7, 9, 5, 9, 2, 7, 3, 0, 3, 3, 3, 7, 2, 2, 6, 6, 8, 3, 3, 5, 0, 5, 5, 0, 2, 0, 0, 4, 1, 3, 1, 6, 3,\n",
       "        1, 4, 4, 6, 1, 9, 1, 3, 5, 7, 9, 7, 1, 7, 9, 9, 9, 3, 2, 9, 3, 6, 4, 1, 1, 8])"
      ]
     },
     "execution_count": 40,
     "metadata": {},
     "output_type": "execute_result"
    }
   ],
   "source": [
    "labels"
   ]
  },
  {
   "cell_type": "code",
   "execution_count": 44,
   "metadata": {},
   "outputs": [
    {
     "data": {
      "text/plain": [
       "2.3010222911834717"
      ]
     },
     "execution_count": 44,
     "metadata": {},
     "output_type": "execute_result"
    }
   ],
   "source": [
    "preds = network(images)\n",
    "loss = F.cross_entropy(preds,labels)\n",
    "loss.item()"
   ]
  },
  {
   "cell_type": "code",
   "execution_count": 45,
   "metadata": {},
   "outputs": [
    {
     "data": {
      "text/plain": [
       "19"
      ]
     },
     "execution_count": 45,
     "metadata": {},
     "output_type": "execute_result"
    }
   ],
   "source": [
    "get_num_correct(preds,labels)"
   ]
  },
  {
   "cell_type": "code",
   "execution_count": 52,
   "metadata": {},
   "outputs": [
    {
     "name": "stdout",
     "output_type": "stream",
     "text": [
      "epoch: 0 total_correct: 40289 total_loss: 1079.0783771276474\n",
      "epoch: 1 total_correct: 46029 total_loss: 1017.448410153389\n",
      "epoch: 2 total_correct: 47848 total_loss: 999.5137293338776\n",
      "epoch: 3 total_correct: 49275 total_loss: 984.8450889587402\n",
      "epoch: 4 total_correct: 50121 total_loss: 976.392569065094\n"
     ]
    }
   ],
   "source": [
    "#training summarized\n",
    "network = Network()\n",
    "train_loader = torch.utils.data.DataLoader(train_set,batch_size=100)\n",
    "optimizer = optim.Adam(network.parameters(),lr=0.001)\n",
    "\n",
    "epoch = 0\n",
    "no_of_epoch = 5\n",
    "#batch = next(iter(train_loader))\n",
    "for epoch in range(no_of_epoch):\n",
    "    total_loss = 0\n",
    "    total_correct = 0\n",
    "    for batch in train_loader:\n",
    "        images,labels = batch\n",
    "\n",
    "        preds = network(images)\n",
    "        loss = F.cross_entropy(preds,labels)\n",
    "\n",
    "        optimizer.zero_grad()\n",
    "        loss.backward()\n",
    "        optimizer.step()\n",
    "\n",
    "        total_loss+=loss.item()\n",
    "        total_correct+=get_num_correct(preds,labels)\n",
    "\n",
    "    print(\"epoch:\",epoch,\"total_correct:\",total_correct,\"total_loss:\",total_loss)\n",
    "\n",
    "\n",
    "\n"
   ]
  },
  {
   "cell_type": "code",
   "execution_count": 53,
   "metadata": {},
   "outputs": [
    {
     "data": {
      "text/plain": [
       "0.83535"
      ]
     },
     "execution_count": 53,
     "metadata": {},
     "output_type": "execute_result"
    }
   ],
   "source": [
    "total_correct/len(train_set)"
   ]
  },
  {
   "cell_type": "code",
   "execution_count": null,
   "metadata": {},
   "outputs": [],
   "source": []
  }
 ],
 "metadata": {
  "kernelspec": {
   "display_name": "Python 3",
   "language": "python",
   "name": "python3"
  },
  "language_info": {
   "codemirror_mode": {
    "name": "ipython",
    "version": 3
   },
   "file_extension": ".py",
   "mimetype": "text/x-python",
   "name": "python",
   "nbconvert_exporter": "python",
   "pygments_lexer": "ipython3",
   "version": "3.7.4"
  }
 },
 "nbformat": 4,
 "nbformat_minor": 2
}
